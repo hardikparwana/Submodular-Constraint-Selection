{
 "cells": [
  {
   "cell_type": "code",
   "execution_count": 310,
   "id": "961c1ec6",
   "metadata": {},
   "outputs": [],
   "source": [
    "import jax\n",
    "import cvxpy as cp\n",
    "import numpy as np\n",
    "import jax.numpy as jnp\n",
    "import polytope as pt\n",
    "\n",
    "%matplotlib inline\n",
    "import matplotlib.pyplot as plt"
   ]
  },
  {
   "cell_type": "markdown",
   "id": "d90ba9c7",
   "metadata": {},
   "source": [
    "## Set parameters"
   ]
  },
  {
   "cell_type": "code",
   "execution_count": 311,
   "id": "877636cb",
   "metadata": {},
   "outputs": [],
   "source": [
    "num_constraints = 8\n",
    "dim = 2 # size of variable U\n",
    "\n",
    "# Lower bound of U\n",
    "lb = jnp.array([-2,-2]).reshape(-1,1)\n",
    "# Upper bound of U\n",
    "ub = jnp.array([2, 2]).reshape(-1,1)\n",
    "\n",
    "# for jax random number generator\n",
    "key = jax.random.PRNGKey(10)\n",
    "np.random.seed(20)\n",
    "\n",
    "# number of monte carlo samples for computing volume\n",
    "num_samples=50000"
   ]
  },
  {
   "cell_type": "markdown",
   "id": "9f72d252",
   "metadata": {},
   "source": [
    "### Set hard constraint (cannot be removed): size 2 * dim"
   ]
  },
  {
   "cell_type": "code",
   "execution_count": 312,
   "id": "b072630b",
   "metadata": {},
   "outputs": [],
   "source": [
    "A_bound = np.array([[1, 0], [-1, 0], [0, 1], [0, -1]]) # for defining absolute hard constraints. cannot be removed\n",
    "b_bound = np.array([2.5,2.5,2.5,2.5]).reshape(-1,1)"
   ]
  },
  {
   "cell_type": "markdown",
   "id": "0eb0e629",
   "metadata": {},
   "source": [
    "### Randomly contruct constraints (num_constraints - 2 * dim)"
   ]
  },
  {
   "cell_type": "code",
   "execution_count": 313,
   "id": "1f4d221c",
   "metadata": {},
   "outputs": [],
   "source": [
    "# randomly construct constraint\n",
    "A = -1 + 2 * np.random.rand(num_constraints-2*dim, dim)\n",
    "b = -1 + 2 * np.random.rand(num_constraints-2*dim,1)\n",
    "A = np.append(A, A_bound, axis=0)\n",
    "b = np.append(b, b_bound, axis=0)"
   ]
  },
  {
   "cell_type": "markdown",
   "id": "04d2e034",
   "metadata": {},
   "source": [
    "### Cvxpy LP solver just to see if solution exists or not"
   ]
  },
  {
   "cell_type": "code",
   "execution_count": 314,
   "id": "d81da79c",
   "metadata": {},
   "outputs": [],
   "source": [
    "# define LP problem\n",
    "A_cp = cp.Parameter((num_constraints, dim), value = np.zeros((num_constraints, dim)))\n",
    "b_cp = cp.Parameter((num_constraints, 1), value=np.ones((num_constraints, 1)))\n",
    "x_cp = cp.Variable((dim,1))\n",
    "const = [A_cp @ x_cp <= b_cp]\n",
    "obj = cp.Minimize( cp.sum(x_cp) )\n",
    "prob = cp.Problem( obj, const )"
   ]
  },
  {
   "cell_type": "code",
   "execution_count": 315,
   "id": "43bb870f",
   "metadata": {},
   "outputs": [
    {
     "name": "stdout",
     "output_type": "stream",
     "text": [
      "status: optimal\n",
      "sol: [[-0.54235]\n",
      " [-2.5    ]]\n"
     ]
    }
   ],
   "source": [
    "# Solve LP\n",
    "\n",
    "A_cp.value = A\n",
    "b_cp.value = b\n",
    "prob.solve()\n",
    "print(f\"status: {prob.status}\")\n",
    "print(f\"sol: {x_cp.value}\")"
   ]
  },
  {
   "cell_type": "code",
   "execution_count": 316,
   "id": "2d07e92f",
   "metadata": {},
   "outputs": [],
   "source": [
    "# @jax.jit\n",
    "def mc_polytope_volume(subkey, A, b, lb = -1, ub = 1):\n",
    "    Anorm = jnp.linalg.norm(A, axis=1)\n",
    "    A = A / Anorm.reshape(-1,1)\n",
    "    b = b / Anorm.reshape(-1,1)\n",
    "    samples = jax.random.uniform( subkey, shape=(dim,num_samples), minval=lb, maxval=ub )     \n",
    "    aux = A @ samples - b\n",
    "    aux = jnp.nonzero(jnp.all(aux < 0, 0))[0].shape[0]\n",
    "    total_volume = jnp.prod(ub - lb, axis=0)\n",
    "    vol = total_volume * aux / num_samples\n",
    "    return vol\n",
    "\n",
    "def plot_polytope_lines(ax, hull, u_bound=3):\n",
    "    xs = np.linspace( -u_bound, u_bound, 3 )\n",
    "    A, b = hull.A, hull.b\n",
    "    alpha = 0.1\n",
    "    for i in range(A.shape[0]):\n",
    "        if np.abs(A[i,1])>0.001:\n",
    "            ax.plot( xs, (b[i] - A[i,0]*xs)/A[i,1], color='k', linestyle='--', alpha = alpha )\n",
    "        else:\n",
    "            if np.abs(A[i,0])>0.001:\n",
    "                ax.axvline( b[i]/A[i,0], color='k', linestyle='--', alpha = alpha )\n",
    "            else:\n",
    "                ax.axvline( 0.0, color='k', linestyle='--', alpha = alpha )"
   ]
  },
  {
   "cell_type": "code",
   "execution_count": 317,
   "id": "529c9a81",
   "metadata": {},
   "outputs": [
    {
     "name": "stdout",
     "output_type": "stream",
     "text": [
      "volume from custom function: [0.57216]\n",
      "volume from custom function: [1.30446]\n",
      "volume from library: 1.2841099328456413\n"
     ]
    }
   ],
   "source": [
    "hull = pt.Polytope(A, b)\n",
    "print(f\"volume from custom function: {mc_polytope_volume( key, A, b, lb = lb, ub = ub)}\")# , num_samples=50000 ))\n",
    "lb, ub = pt.bounding_box(hull)\n",
    "print(f\"volume from custom function: {mc_polytope_volume( key, A, b, lb = lb, ub = ub)}\")# , num_samples=50000 ))\n",
    "print(f\"volume from library: {hull.volume}\")"
   ]
  },
  {
   "cell_type": "code",
   "execution_count": 318,
   "id": "eee0f7b1",
   "metadata": {},
   "outputs": [
    {
     "data": {
      "image/png": "[encoded data removed]",
      "text/plain": [
       "<Figure size 640x480 with 1 Axes>"
      ]
     },
     "metadata": {},
     "output_type": "display_data"
    }
   ],
   "source": [
    "fig, ax  = plt.subplots()\n",
    "ax.set_xlim([-3, 3])\n",
    "ax.set_ylim([-3,3])\n",
    "hull = pt.Polytope( A, b )\n",
    "hull_plot = hull.plot(ax, color = 'g')\n",
    "plot_polytope_lines(ax, hull )"
   ]
  }
 ],
 "metadata": {
  "kernelspec": {
   "display_name": "Python 3 (ipykernel)",
   "language": "python",
   "name": "python3"
  },
  "language_info": {
   "codemirror_mode": {
    "name": "ipython",
    "version": 3
   },
   "file_extension": ".py",
   "mimetype": "text/x-python",
   "name": "python",
   "nbconvert_exporter": "python",
   "pygments_lexer": "ipython3",
   "version": "3.11.10"
  }
 },
 "nbformat": 4,
 "nbformat_minor": 5
}
