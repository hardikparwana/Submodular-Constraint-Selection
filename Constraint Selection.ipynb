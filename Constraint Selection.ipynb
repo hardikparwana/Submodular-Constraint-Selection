{
 "cells": [
  {
   "cell_type": "code",
   "execution_count": 2,
   "id": "961c1ec6",
   "metadata": {},
   "outputs": [],
   "source": [
    "import jax\n",
    "import cvxpy as cp\n",
    "import numpy as np\n",
    "import jax.numpy as jnp\n",
    "import polytope as pt\n",
    "\n",
    "%matplotlib inline\n",
    "import matplotlib.pyplot as plt"
   ]
  },
  {
   "cell_type": "markdown",
   "id": "d90ba9c7",
   "metadata": {},
   "source": [
    "## Set parameters"
   ]
  },
  {
   "cell_type": "code",
   "execution_count": 3,
   "id": "877636cb",
   "metadata": {},
   "outputs": [
    {
     "name": "stderr",
     "output_type": "stream",
     "text": [
      "An NVIDIA GPU may be present on this machine, but a CUDA-enabled jaxlib is not installed. Falling back to cpu.\n"
     ]
    }
   ],
   "source": [
    "num_constraints = 8\n",
    "dim = 2 # size of variable U\n",
    "\n",
    "# Lower bound of U\n",
    "lb = jnp.array([-2,-2]).reshape(-1,1)\n",
    "# Upper bound of U\n",
    "ub = jnp.array([2, 2]).reshape(-1,1)\n",
    "\n",
    "# for jax random number generator\n",
    "key = jax.random.PRNGKey(10)\n",
    "np.random.seed(20)\n",
    "\n",
    "# number of monte carlo samples for computing volume\n",
    "num_samples=50000"
   ]
  },
  {
   "cell_type": "markdown",
   "id": "9f72d252",
   "metadata": {},
   "source": [
    "### Set hard constraint (cannot be removed): size 2 * dim"
   ]
  },
  {
   "cell_type": "code",
   "execution_count": 4,
   "id": "b072630b",
   "metadata": {},
   "outputs": [],
   "source": [
    "A_bound = np.array([[1, 0], [-1, 0], [0, 1], [0, -1]]) # for defining absolute hard constraints. cannot be removed\n",
    "b_bound = np.array([2.5,2.5,2.5,2.5]).reshape(-1,1)"
   ]
  },
  {
   "cell_type": "markdown",
   "id": "0eb0e629",
   "metadata": {},
   "source": [
    "### Randomly contruct constraints (num_constraints - 2 * dim)"
   ]
  },
  {
   "cell_type": "code",
   "execution_count": 59,
   "id": "1f4d221c",
   "metadata": {},
   "outputs": [],
   "source": [
    "# randomly construct constraint\n",
    "A = -1 + 2 * np.random.rand(num_constraints-2*dim, dim)\n",
    "b = -1 + 2 * np.random.rand(num_constraints-2*dim,1)\n",
    "A = np.append(A, A_bound, axis=0)\n",
    "b = np.append(b, b_bound, axis=0)"
   ]
  },
  {
   "cell_type": "markdown",
   "id": "04d2e034",
   "metadata": {},
   "source": [
    "### Cvxpy LP solver just to see if solution exists or not"
   ]
  },
  {
   "cell_type": "code",
   "execution_count": 60,
   "id": "d81da79c",
   "metadata": {},
   "outputs": [],
   "source": [
    "# define LP problem\n",
    "A_cp = cp.Parameter((num_constraints, dim), value = np.zeros((num_constraints, dim)))\n",
    "b_cp = cp.Parameter((num_constraints, 1), value=np.ones((num_constraints, 1)))\n",
    "x_cp = cp.Variable((dim,1))\n",
    "const = [A_cp @ x_cp <= b_cp]\n",
    "obj = cp.Minimize( cp.sum(x_cp) )\n",
    "prob = cp.Problem( obj, const )"
   ]
  },
  {
   "cell_type": "code",
   "execution_count": 61,
   "id": "43bb870f",
   "metadata": {},
   "outputs": [
    {
     "name": "stdout",
     "output_type": "stream",
     "text": [
      "status: infeasible\n",
      "sol: None\n"
     ]
    }
   ],
   "source": [
    "# Solve LP\n",
    "\n",
    "A_cp.value = A\n",
    "b_cp.value = b\n",
    "prob.solve()\n",
    "print(f\"status: {prob.status}\")\n",
    "print(f\"sol: {x_cp.value}\")"
   ]
  },
  {
   "cell_type": "code",
   "execution_count": 62,
   "id": "2d07e92f",
   "metadata": {},
   "outputs": [],
   "source": [
    "# @jax.jit\n",
    "def mc_polytope_volume(subkey, A, b, lb = -1, ub = 1):\n",
    "    Anorm = jnp.linalg.norm(A, axis=1)\n",
    "    A = A / Anorm.reshape(-1,1)\n",
    "    b = b / Anorm.reshape(-1,1)\n",
    "    samples = jax.random.uniform( subkey, shape=(dim,num_samples), minval=lb, maxval=ub )     \n",
    "    aux = A @ samples - b\n",
    "    aux = jnp.nonzero(jnp.all(aux < 0, 0))[0].shape[0]\n",
    "    total_volume = jnp.prod(ub - lb, axis=0)\n",
    "    vol = total_volume * aux / num_samples\n",
    "    return vol\n",
    "\n",
    "def plot_polytope_lines(ax, hull, u_bound=3):\n",
    "    xs = np.linspace( -u_bound, u_bound, 3 )\n",
    "    A, b = hull.A, hull.b\n",
    "    alpha = 0.1\n",
    "    for i in range(A.shape[0]):\n",
    "        if np.abs(A[i,1])>0.001:\n",
    "            ax.plot( xs, (b[i] - A[i,0]*xs)/A[i,1], color='k', linestyle='--', alpha = alpha )\n",
    "        else:\n",
    "            if np.abs(A[i,0])>0.001:\n",
    "                ax.axvline( b[i]/A[i,0], color='k', linestyle='--', alpha = alpha )\n",
    "            else:\n",
    "                ax.axvline( 0.0, color='k', linestyle='--', alpha = alpha )"
   ]
  },
  {
   "cell_type": "code",
   "execution_count": 63,
   "id": "529c9a81",
   "metadata": {},
   "outputs": [
    {
     "name": "stdout",
     "output_type": "stream",
     "text": [
      "volume from custom function: [0.]\n",
      "volume from custom function: [0.]\n",
      "volume from library: 0.0\n"
     ]
    }
   ],
   "source": [
    "hull = pt.Polytope(A, b)\n",
    "print(f\"volume from custom function: {mc_polytope_volume( key, A, b, lb = lb, ub = ub)}\")# , num_samples=50000 ))\n",
    "lb, ub = pt.bounding_box(hull)\n",
    "print(f\"volume from custom function: {mc_polytope_volume( key, A, b, lb = lb, ub = ub)}\")# , num_samples=50000 ))\n",
    "print(f\"volume from library: {hull.volume}\")"
   ]
  },
  {
   "cell_type": "code",
   "execution_count": 64,
   "id": "eee0f7b1",
   "metadata": {},
   "outputs": [
    {
     "name": "stderr",
     "output_type": "stream",
     "text": [
      "Cannot plot empty polytope\n"
     ]
    },
    {
     "data": {
      "image/png": "[encoded data removed]",
      "text/plain": [
       "<Figure size 640x480 with 1 Axes>"
      ]
     },
     "metadata": {},
     "output_type": "display_data"
    }
   ],
   "source": [
    "fig, ax  = plt.subplots()\n",
    "ax.set_xlim([-3, 3])\n",
    "ax.set_ylim([-3,3])\n",
    "hull = pt.Polytope( A, b )\n",
    "hull_plot = hull.plot(ax, color = 'g')\n",
    "plot_polytope_lines(ax, hull )"
   ]
  },
  {
   "cell_type": "markdown",
   "id": "a96c789c-f90a-44de-96f7-caf58c6c7b7d",
   "metadata": {},
   "source": [
    "### Greedy Algorithm"
   ]
  },
  {
   "cell_type": "code",
   "execution_count": 65,
   "id": "5996fadd-f171-4cf7-8f8f-9ed16f3e480e",
   "metadata": {},
   "outputs": [],
   "source": [
    "# Computes the feasible space volume of the system with some constraints given by index\n",
    "def measure_vol(A,b,subkey, index):\n",
    "    A_temp = A[index, :]\n",
    "    b_temp = b[index,:]\n",
    "    hull = pt.Polytope(A_temp, b_temp)\n",
    "    lb, ub = pt.bounding_box(hull)\n",
    "    volume =  mc_polytope_volume(subkey, A_temp, b_temp, lb, ub)\n",
    "    return volume"
   ]
  },
  {
   "cell_type": "code",
   "execution_count": 66,
   "id": "676361c9-eab1-4328-869d-6464bebbfedc",
   "metadata": {},
   "outputs": [],
   "source": [
    "def greedy_algorithm(A,b, subkey):\n",
    "    # Check if the original problem is feasible\n",
    "    hull = pt.Polytope(A, b)\n",
    "    lb, ub = pt.bounding_box(hull)\n",
    "    volume = mc_polytope_volume(subkey, A, b, lb, ub)\n",
    "\n",
    "    # If feasible (volume>0), terminate\n",
    "    if volume>0:\n",
    "        print(\"Volume is nonzero.\")\n",
    "    else:\n",
    "        # Compute the volume only with the hard constraints\n",
    "        remaining_index = [i for i in range(0, num_constraints-2*dim)]     #soft constraints\n",
    "        added_index = [i for i in range(num_constraints-2*dim, num_constraints)]    #hard constraints\n",
    "        volume = measure_vol(A,b,subkey, added_index)\n",
    "\n",
    "        # Start adding the constraints until volume>0\n",
    "        while True:\n",
    "            temp_max_volume = -100000; constraint_ind = 1000; temp_ind =1000\n",
    "\n",
    "            # For each remaining constraints, compute the volume. Then, find the constraint that minimizes the reduction of volume.\n",
    "            for i in range(len(remaining_index)):\n",
    "                new_temp_index = added_index + [remaining_index[i]]\n",
    "                current_vol = measure_vol(A,b,subkey, new_temp_index)\n",
    "                \n",
    "                # If the newly computed volume is larger (decreased less), choose that constraint\n",
    "                if temp_max_volume < current_vol:\n",
    "                    temp_max_volume = current_vol\n",
    "                    temp_ind = i\n",
    "                    constraint_ind = remaining_index[i]\n",
    "                    \n",
    "            # If the volume is zero, we are done.\n",
    "            if temp_max_volume==0:\n",
    "                break\n",
    "                \n",
    "            # If the volume is nonzero, we add the newly found constraint.\n",
    "            added_index.append(constraint_ind)\n",
    "            remaining_index.pop(temp_ind)\n",
    "            volume = temp_max_volume\n",
    "            print(\"Current list of added constraints:\", added_index)\n",
    "            print(\"Current volume:\", temp_max_volume)\n",
    "        print(\"\\nRemoved constraints:\", remaining_index)\n",
    "        print(\"Remaining\", len(added_index), \"constraints:\", added_index)\n",
    "        print(\"Remaining Volume:\", volume)\n",
    "        return added_index"
   ]
  },
  {
   "cell_type": "code",
   "execution_count": 67,
   "id": "e81df4ad-3ffc-43ed-948a-0759b3c94d1e",
   "metadata": {},
   "outputs": [
    {
     "name": "stdout",
     "output_type": "stream",
     "text": [
      "Current list of added constraints: [4, 5, 6, 7, 2]\n",
      "Current volume: [18.524]\n",
      "Current list of added constraints: [4, 5, 6, 7, 2, 1]\n",
      "Current volume: [11.7682]\n",
      "Current list of added constraints: [4, 5, 6, 7, 2, 1, 3]\n",
      "Current volume: [4.19104]\n",
      "\n",
      "Removed constraints: [0]\n",
      "Remaining 7 constraints: [4, 5, 6, 7, 2, 1, 3]\n",
      "Remaining Volume: [4.19104]\n"
     ]
    },
    {
     "data": {
      "text/plain": [
       "[4, 5, 6, 7, 2, 1, 3]"
      ]
     },
     "execution_count": 67,
     "metadata": {},
     "output_type": "execute_result"
    }
   ],
   "source": [
    "greedy_algorithm(A,b, key)"
   ]
  },
  {
   "cell_type": "markdown",
   "id": "4dc2f1df-3919-4508-9312-701c3f53bd24",
   "metadata": {},
   "source": [
    "### Chinneck's Algorithm"
   ]
  },
  {
   "cell_type": "code",
   "execution_count": 68,
   "id": "d2316b31-e607-43cb-b723-19449e818064",
   "metadata": {},
   "outputs": [],
   "source": [
    "def chinneck(A,b):\n",
    "\n",
    "    # Initialize the original problem\n",
    "    A_cp = cp.Parameter((num_constraints, dim), value = np.zeros((num_constraints, dim)))\n",
    "    b_cp = cp.Parameter((num_constraints, 1), value=np.ones((num_constraints, 1)))\n",
    "    x_cp = cp.Variable((dim,1))\n",
    "    bool_var = cp.Parameter((num_constraints, num_constraints), value = np.eye(num_constraints))\n",
    "    slack_var = cp.Variable((num_constraints,1))\n",
    "    const = [bool_var @ (A_cp @ x_cp) <= bool_var @ b_cp + slack_var]\n",
    "    obj = cp.Minimize( cp.sum(x_cp) + 10000*cp.sum_squares(slack_var))\n",
    "    prob = cp.Problem( obj, const )\n",
    "    A_cp.value = A\n",
    "    b_cp.value = b\n",
    "    prob.solve(solver=\"MOSEK\")\n",
    "    minZ = sum(slack_var.value**2)\n",
    "    coverset = []\n",
    "    # If it is feasible already, terminate\n",
    "    if minZ<0.001:\n",
    "        print(\"Problem is feasible.\")\n",
    "    else:\n",
    "        # Initialize the sets for remaining and removed constraint indices\n",
    "        remaining = [i for i in range(0, num_constraints)]\n",
    "\n",
    "        # If there is only one violated constraint, remove that constraint and return the remaining constraints.\n",
    "        hold_set = [i for i,val in enumerate(slack_var.value) if abs(val)>0.01]\n",
    "        if len(hold_set)==1:\n",
    "            return hold_set\n",
    "        \n",
    "        # Run until the problem becomes feasible\n",
    "        while minZ>0:\n",
    "            minZ = 1000; min_index = 1000\n",
    "\n",
    "            # Only activate the remaining constraints\n",
    "            bool_temp = np.zeros((num_constraints,num_constraints))\n",
    "            for j in remaining:\n",
    "                bool_temp[j,j]=1\n",
    "            candidate_set = hold_set\n",
    "\n",
    "            # Find the constraint whose removals have the lowest squared sum of the slack variable.\n",
    "            for i in candidate_set:\n",
    "\n",
    "                # Skip the hard constraints\n",
    "                if i>= num_constraints - 2*dim:\n",
    "                    continue\n",
    "                # Remove the constraint i, solve, and see the slack variable\n",
    "                bool_temp[i,i]=0\n",
    "                bool_var.value = bool_temp\n",
    "                prob.solve(solver=\"MOSEK\")\n",
    "                elastic_Z = sum(slack_var.value**2)\n",
    "                if elastic_Z <0.001:\n",
    "                    coverset.append(i)\n",
    "                    return coverset\n",
    "                \n",
    "                # Records the winner constraint \n",
    "                if elastic_Z < minZ:\n",
    "                    minZ = elastic_Z\n",
    "                    hold_set = [i for i,val in enumerate(slack_var.value) if abs(val)>0.001]\n",
    "                    # print(i, hold_set)\n",
    "                    min_index = i\n",
    "\n",
    "                # Reinstate the constraint\n",
    "                bool_temp[i,i]=1\n",
    "\n",
    "            # Add the winnter constraint to coverset and completely remove it from the remaining set\n",
    "            coverset.append(min_index)\n",
    "            remaining.remove(min_index)\n",
    "            print(\"Removing Constraint\", min_index)\n",
    "            print(\"Current list of removed constraints:\", coverset)\n",
    "            print(\"Current list of remaining constraints:\", remaining)\n",
    "    return coverset"
   ]
  },
  {
   "cell_type": "code",
   "execution_count": 70,
   "id": "4127955a-3296-4588-86ae-a3ce30e2a627",
   "metadata": {},
   "outputs": [
    {
     "name": "stdout",
     "output_type": "stream",
     "text": [
      "\n",
      "Finished:\n",
      "Removed 1 constraints\n",
      "Removed: [0]\n",
      "Remaining: [1, 2, 3, 4, 5, 6, 7]\n"
     ]
    }
   ],
   "source": [
    "coverset= chinneck(A,b)    \n",
    "remaining = [i for i in range(0, num_constraints) if i not in coverset]\n",
    "print(\"\\nFinished:\")\n",
    "print(\"Removed\", len(coverset), \"constraints\")\n",
    "print(\"Removed:\",coverset)\n",
    "print(\"Remaining:\", remaining)"
   ]
  },
  {
   "cell_type": "code",
   "execution_count": null,
   "id": "252b59c5-572b-4f28-b29c-7a26b186304f",
   "metadata": {},
   "outputs": [],
   "source": []
  }
 ],
 "metadata": {
  "kernelspec": {
   "display_name": "Python 3 (ipykernel)",
   "language": "python",
   "name": "python3"
  },
  "language_info": {
   "codemirror_mode": {
    "name": "ipython",
    "version": 3
   },
   "file_extension": ".py",
   "mimetype": "text/x-python",
   "name": "python",
   "nbconvert_exporter": "python",
   "pygments_lexer": "ipython3",
   "version": "3.10.12"
  }
 },
 "nbformat": 4,
 "nbformat_minor": 5
}
